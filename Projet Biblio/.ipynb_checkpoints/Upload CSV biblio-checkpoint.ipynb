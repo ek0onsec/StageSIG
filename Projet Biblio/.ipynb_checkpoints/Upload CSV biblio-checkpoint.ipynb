{
 "cells": [
  {
   "cell_type": "markdown",
   "metadata": {},
   "source": [
    "## Import des bibliothèques"
   ]
  },
  {
   "cell_type": "code",
   "execution_count": 1,
   "metadata": {},
   "outputs": [],
   "source": [
    "from arcgis.gis import GIS\n",
    "from arcgis import features\n",
    "import pandas as pd\n",
    "import datetime as dt\n",
    "import shutil\n",
    "import os"
   ]
  },
  {
   "cell_type": "code",
   "execution_count": 2,
   "metadata": {},
   "outputs": [
    {
     "name": "stdout",
     "output_type": "stream",
     "text": [
      "Enter password: ········\n"
     ]
    }
   ],
   "source": [
    "gis = GIS(\"https://sigcg02.maps.arcgis.com\", \"STAGE.CD02\")"
   ]
  },
  {
   "cell_type": "markdown",
   "metadata": {},
   "source": [
    "## Lecture du fichier récupéré "
   ]
  },
  {
   "cell_type": "code",
   "execution_count": 11,
   "metadata": {},
   "outputs": [
    {
     "data": {
      "text/html": [
       "<div>\n",
       "<style scoped>\n",
       "    .dataframe tbody tr th:only-of-type {\n",
       "        vertical-align: middle;\n",
       "    }\n",
       "\n",
       "    .dataframe tbody tr th {\n",
       "        vertical-align: top;\n",
       "    }\n",
       "\n",
       "    .dataframe thead th {\n",
       "        text-align: right;\n",
       "    }\n",
       "</style>\n",
       "<table border=\"1\" class=\"dataframe\">\n",
       "  <thead>\n",
       "    <tr style=\"text-align: right;\">\n",
       "      <th></th>\n",
       "      <th>ID;\"Date MAJ\";\"Nom\";\"Statut\";\"EPN\";\"Nature\";\"Contact mail\";\"Adresse\";\"Code postal\";\"Commune\";\"Téléphone\";\"Site internet\";\"Accès équipement\";\"Type équipement\";\"Conditions accès équipement\";\"Coût accès équipement\";\"Médiation numérique\";\"Type médiation numérique\";\"Conditions accès médiation numérique\";\"Accompagnement médiation numérique\";\"Coût accès médiation numérique\";\"Fréquence médiation numérique\";\"Démarches\";\"Démarches spécifiques\";\"Type démarches\";\"Conditions accès démarches\";\"Accompagnement démarches\";\"Coût accès démarches\";\"Fréquence démarches\";\"Stockage\";\"Coût stockage\";\"Vente matériel\";\"Typé vente matériel\";\"Détail publics\";\"Détail territoire\";\"PMR\";\"Accès transports en commun\";\"APTIC\";\"Latitude\";\"Longitude\";\"Département\";\"Arrondissement\";\"EPCI\"</th>\n",
       "    </tr>\n",
       "  </thead>\n",
       "  <tbody>\n",
       "    <tr>\n",
       "      <th>0</th>\n",
       "      <td>0001;2018;Accompagnement numérique - CCAS d'Am...</td>\n",
       "    </tr>\n",
       "    <tr>\n",
       "      <th>1</th>\n",
       "      <td>0005;2018;CAF Somme;Privé;Non;\"Services publiq...</td>\n",
       "    </tr>\n",
       "    <tr>\n",
       "      <th>2</th>\n",
       "      <td>0010;22/02/2021;Point d'accueil numérique - So...</td>\n",
       "    </tr>\n",
       "    <tr>\n",
       "      <th>3</th>\n",
       "      <td>0011;2018;Point d'accueil numérique - Sous-Pré...</td>\n",
       "    </tr>\n",
       "    <tr>\n",
       "      <th>4</th>\n",
       "      <td>0012;2018;Point d'accueil numérique - Sous-Pré...</td>\n",
       "    </tr>\n",
       "  </tbody>\n",
       "</table>\n",
       "</div>"
      ],
      "text/plain": [
       "  ID;\"Date MAJ\";\"Nom\";\"Statut\";\"EPN\";\"Nature\";\"Contact mail\";\"Adresse\";\"Code postal\";\"Commune\";\"Téléphone\";\"Site internet\";\"Accès équipement\";\"Type équipement\";\"Conditions accès équipement\";\"Coût accès équipement\";\"Médiation numérique\";\"Type médiation numérique\";\"Conditions accès médiation numérique\";\"Accompagnement médiation numérique\";\"Coût accès médiation numérique\";\"Fréquence médiation numérique\";\"Démarches\";\"Démarches spécifiques\";\"Type démarches\";\"Conditions accès démarches\";\"Accompagnement démarches\";\"Coût accès démarches\";\"Fréquence démarches\";\"Stockage\";\"Coût stockage\";\"Vente matériel\";\"Typé vente matériel\";\"Détail publics\";\"Détail territoire\";\"PMR\";\"Accès transports en commun\";\"APTIC\";\"Latitude\";\"Longitude\";\"Département\";\"Arrondissement\";\"EPCI\"\n",
       "0  0001;2018;Accompagnement numérique - CCAS d'Am...                                                                                                                                                                                                                                                                                                                                                                                                                                                                                                                                                                                                                                                                                                                                        \n",
       "1  0005;2018;CAF Somme;Privé;Non;\"Services publiq...                                                                                                                                                                                                                                                                                                                                                                                                                                                                                                                                                                                                                                                                                                                                        \n",
       "2  0010;22/02/2021;Point d'accueil numérique - So...                                                                                                                                                                                                                                                                                                                                                                                                                                                                                                                                                                                                                                                                                                                                        \n",
       "3  0011;2018;Point d'accueil numérique - Sous-Pré...                                                                                                                                                                                                                                                                                                                                                                                                                                                                                                                                                                                                                                                                                                                                        \n",
       "4  0012;2018;Point d'accueil numérique - Sous-Pré...                                                                                                                                                                                                                                                                                                                                                                                                                                                                                                                                                                                                                                                                                                                                        "
      ]
     },
     "execution_count": 11,
     "metadata": {},
     "output_type": "execute_result"
    }
   ],
   "source": [
    "csv_biblio = 'export_csv/0_Export_Data.csv' #chemin du dossier contenant les .csv téléchargé\n",
    "\n",
    "_csv_biblio = pd.read_csv(csv_biblio, sep='\\t')\n",
    "_csv_biblio.head()"
   ]
  },
  {
   "cell_type": "markdown",
   "metadata": {},
   "source": [
    "## Vérification du chemin absolue du fichier à mettre en ligne"
   ]
  },
  {
   "cell_type": "code",
   "execution_count": 14,
   "metadata": {},
   "outputs": [],
   "source": [
    "#affectation de la variable de localisation du fichier systeme\n",
    "cwd = os.path.abspath(os.getcwd())\n",
    "data_pth = os.path.join(cwd, r'export_csv/')\n",
    "# créer un identifiant unique pour le fichier de mise à jour\n",
    "now_ts = str(int(dt.datetime.now().timestamp()))\n",
    "#copie du fichier et ajout de l'identifiant unique\n",
    "_csv_biblio = os.path.abspath(csv_biblio)"
   ]
  },
  {
   "cell_type": "markdown",
   "metadata": {},
   "source": [
    "## Publication en tant que couche CSV"
   ]
  },
  {
   "cell_type": "code",
   "execution_count": 15,
   "metadata": {},
   "outputs": [
    {
     "data": {
      "text/html": [
       "<div class=\"item_container\" style=\"height: auto; overflow: hidden; border: 1px solid #cfcfcf; border-radius: 2px; background: #f6fafa; line-height: 1.21429em; padding: 10px;\">\n",
       "                    <div class=\"item_left\" style=\"width: 210px; float: left;\">\n",
       "                       <a href='https://sigcg02.maps.arcgis.com/home/item.html?id=73830b36c73349dfb8270638297a3684' target='_blank'>\n",
       "                        <img src='http://static.arcgis.com/images/desktopapp.png' class=\"itemThumbnail\">\n",
       "                       </a>\n",
       "                    </div>\n",
       "\n",
       "                    <div class=\"item_right\"     style=\"float: none; width: auto; overflow: hidden;\">\n",
       "                        <a href='https://sigcg02.maps.arcgis.com/home/item.html?id=73830b36c73349dfb8270638297a3684' target='_blank'><b>TEST_UPLOAD_BIBLIO_1619735031</b>\n",
       "                        </a>\n",
       "                        <br/><img src='https://sigcg02.maps.arcgis.com/home/js/jsapi/esri/css/images/item_type_icons/layers16.png' style=\"vertical-align:middle;\">CSV by STAGE.CD02\n",
       "                        <br/>Last Modified: avril 30, 2021\n",
       "                        <br/>0 comments, 0 views\n",
       "                    </div>\n",
       "                </div>\n",
       "                "
      ],
      "text/plain": [
       "<Item title:\"TEST_UPLOAD_BIBLIO_1619735031\" type:CSV owner:STAGE.CD02>"
      ]
     },
     "execution_count": 15,
     "metadata": {},
     "output_type": "execute_result"
    }
   ],
   "source": [
    "now_ts = str(int(dt.datetime.now().timestamp()))\n",
    "item_prop = {'title':'TEST_UPLOAD_BIBLIO_'+now_ts}\n",
    "biblio_upload_item = gis.content.add(item_properties=item_prop, data=_csv_biblio)\n",
    "biblio_upload_item"
   ]
  },
  {
   "cell_type": "markdown",
   "metadata": {},
   "source": [
    "## Publication de la couche csv en tant que featureLayer"
   ]
  },
  {
   "cell_type": "code",
   "execution_count": 16,
   "metadata": {},
   "outputs": [
    {
     "data": {
      "text/html": [
       "<div class=\"item_container\" style=\"height: auto; overflow: hidden; border: 1px solid #cfcfcf; border-radius: 2px; background: #f6fafa; line-height: 1.21429em; padding: 10px;\">\n",
       "                    <div class=\"item_left\" style=\"width: 210px; float: left;\">\n",
       "                       <a href='https://sigcg02.maps.arcgis.com/home/item.html?id=c4ac1f5203a14bc48f9474de3627b5d5' target='_blank'>\n",
       "                        <img src='http://static.arcgis.com/images/desktopapp.png' class=\"itemThumbnail\">\n",
       "                       </a>\n",
       "                    </div>\n",
       "\n",
       "                    <div class=\"item_right\"     style=\"float: none; width: auto; overflow: hidden;\">\n",
       "                        <a href='https://sigcg02.maps.arcgis.com/home/item.html?id=c4ac1f5203a14bc48f9474de3627b5d5' target='_blank'><b>TEST_UPLOAD_BIBLIO_1619735031</b>\n",
       "                        </a>\n",
       "                        <br/><img src='https://sigcg02.maps.arcgis.com/home/js/jsapi/esri/css/images/item_type_icons/featureshosted16.png' style=\"vertical-align:middle;\">Feature Layer Collection by STAGE.CD02\n",
       "                        <br/>Last Modified: avril 30, 2021\n",
       "                        <br/>0 comments, 0 views\n",
       "                    </div>\n",
       "                </div>\n",
       "                "
      ],
      "text/plain": [
       "<Item title:\"TEST_UPLOAD_BIBLIO_1619735031\" type:Feature Layer Collection owner:STAGE.CD02>"
      ]
     },
     "execution_count": 16,
     "metadata": {},
     "output_type": "execute_result"
    }
   ],
   "source": [
    "biblio_upload_item = biblio_upload_item.publish()\n",
    "biblio_upload_item"
   ]
  },
  {
   "cell_type": "code",
   "execution_count": null,
   "metadata": {},
   "outputs": [],
   "source": []
  }
 ],
 "metadata": {
  "kernelspec": {
   "display_name": "Python 3",
   "language": "python",
   "name": "python3"
  },
  "language_info": {
   "codemirror_mode": {
    "name": "ipython",
    "version": 3
   },
   "file_extension": ".py",
   "mimetype": "text/x-python",
   "name": "python",
   "nbconvert_exporter": "python",
   "pygments_lexer": "ipython3",
   "version": "3.8.5"
  }
 },
 "nbformat": 4,
 "nbformat_minor": 4
}
