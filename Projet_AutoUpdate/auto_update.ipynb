{
 "cells": [
  {
   "cell_type": "markdown",
   "metadata": {},
   "source": [
    "## Import des Bibliothèques"
   ]
  },
  {
   "cell_type": "markdown",
   "metadata": {},
   "source": [
    "## Connexion au portail arcgis de l'organisation "
   ]
  },
  {
   "cell_type": "code",
   "execution_count": 2,
   "metadata": {},
   "outputs": [],
   "source": [
    "from arcgis.gis import GIS\n",
    "from arcgis import features\n",
    "import pandas as pd\n",
    "import datetime as dt\n",
    "import shutil\n",
    "import os"
   ]
  },
  {
   "cell_type": "code",
   "execution_count": 4,
   "metadata": {},
   "outputs": [
    {
     "name": "stdout",
     "output_type": "stream",
     "text": [
      "pwd= C:\\Users\\Ek0\\Desktop\\ProjetsStage\\Projet_AutoUpdate\n"
     ]
    }
   ],
   "source": [
    "print(\"pwd= \" + os.getcwd())"
   ]
  },
  {
   "cell_type": "code",
   "execution_count": 3,
   "metadata": {},
   "outputs": [
    {
     "name": "stdout",
     "output_type": "stream",
     "text": [
      "Enter password: ········\n"
     ]
    }
   ],
   "source": [
    "gis = GIS(\"https://sigcg02.maps.arcgis.com\", \"\") # ('portail', 'login', 'mdp')"
   ]
  },
  {
   "cell_type": "markdown",
   "metadata": {},
   "source": [
    "## Lecture du fichier initial ( nécessitant une mise à jour )"
   ]
  },
  {
   "cell_type": "code",
   "execution_count": 4,
   "metadata": {},
   "outputs": [
    {
     "data": {
      "text/html": [
       "<div>\n",
       "<style scoped>\n",
       "    .dataframe tbody tr th:only-of-type {\n",
       "        vertical-align: middle;\n",
       "    }\n",
       "\n",
       "    .dataframe tbody tr th {\n",
       "        vertical-align: top;\n",
       "    }\n",
       "\n",
       "    .dataframe thead th {\n",
       "        text-align: right;\n",
       "    }\n",
       "</style>\n",
       "<table border=\"1\" class=\"dataframe\">\n",
       "  <thead>\n",
       "    <tr style=\"text-align: right;\">\n",
       "      <th></th>\n",
       "      <th>OBJECTID</th>\n",
       "      <th>CANTON</th>\n",
       "      <th>NUMERO</th>\n",
       "      <th>NB_COMMUNE</th>\n",
       "      <th>SUPERFICIE</th>\n",
       "      <th>ELU_1</th>\n",
       "      <th>ELU_2</th>\n",
       "      <th>FICHE_ELU</th>\n",
       "      <th>FICHE_EL_1</th>\n",
       "      <th>Shape__Area</th>\n",
       "      <th>Shape__Length</th>\n",
       "      <th>SHAPE</th>\n",
       "    </tr>\n",
       "  </thead>\n",
       "  <tbody>\n",
       "    <tr>\n",
       "      <th>0</th>\n",
       "      <td>1</td>\n",
       "      <td>BOHAIN-EN-VERMANDOIS</td>\n",
       "      <td>1</td>\n",
       "      <td>31</td>\n",
       "      <td>288.88</td>\n",
       "      <td>Michel COLLET</td>\n",
       "      <td>Monique SEBASTIJAN</td>\n",
       "      <td>https://aisne.com/vos-elus/michel-collet</td>\n",
       "      <td>https://aisne.com/vos-elus/monique-sebastijan</td>\n",
       "      <td>2.888832e+08</td>\n",
       "      <td>128552.573008</td>\n",
       "      <td>{\"rings\": [[[735157.799999997, 6991274.2], [73...</td>\n",
       "    </tr>\n",
       "    <tr>\n",
       "      <th>1</th>\n",
       "      <td>2</td>\n",
       "      <td>CHATEAU-THIERRY</td>\n",
       "      <td>2</td>\n",
       "      <td>21</td>\n",
       "      <td>210.14</td>\n",
       "      <td>Bruno BEAUVOIS</td>\n",
       "      <td>Michèle FUSELIER</td>\n",
       "      <td>https://aisne.com/vos-elus/bruno-beauvois</td>\n",
       "      <td>https://aisne.com/vos-elus/michele-fuselier</td>\n",
       "      <td>2.101448e+08</td>\n",
       "      <td>104911.296891</td>\n",
       "      <td>{\"rings\": [[[735349.899999999, 6889777.4], [73...</td>\n",
       "    </tr>\n",
       "    <tr>\n",
       "      <th>2</th>\n",
       "      <td>3</td>\n",
       "      <td>CHAUNY</td>\n",
       "      <td>3</td>\n",
       "      <td>21</td>\n",
       "      <td>167.20</td>\n",
       "      <td>Jean-Luc LANOUILH</td>\n",
       "      <td>Fabienne MARCHIONNI</td>\n",
       "      <td>https://aisne.com/vos-elus/jean-luc-lanouilh</td>\n",
       "      <td>https://aisne.com/vos-elus/fabienne-marchionni</td>\n",
       "      <td>1.672036e+08</td>\n",
       "      <td>94661.843008</td>\n",
       "      <td>{\"rings\": [[[718294.799999997, 6955208.7], [71...</td>\n",
       "    </tr>\n",
       "    <tr>\n",
       "      <th>3</th>\n",
       "      <td>4</td>\n",
       "      <td>ESSOMES-SUR-MARNE</td>\n",
       "      <td>4</td>\n",
       "      <td>47</td>\n",
       "      <td>522.16</td>\n",
       "      <td>Georges FOURRÉ</td>\n",
       "      <td>Anne MARICOT</td>\n",
       "      <td>https://aisne.com/vos-elus/georges-fourre</td>\n",
       "      <td>https://aisne.com/vos-elus/anne-maricot</td>\n",
       "      <td>5.221588e+08</td>\n",
       "      <td>198246.580328</td>\n",
       "      <td>{\"rings\": [[[713224, 6884072.5], [713247.39999...</td>\n",
       "    </tr>\n",
       "    <tr>\n",
       "      <th>4</th>\n",
       "      <td>5</td>\n",
       "      <td>FERE-EN-TARDENOIS</td>\n",
       "      <td>5</td>\n",
       "      <td>78</td>\n",
       "      <td>631.54</td>\n",
       "      <td>Carole DERUY</td>\n",
       "      <td>François RAMPELBERG</td>\n",
       "      <td>https://aisne.com/vos-elus/carole-deruy</td>\n",
       "      <td>https://aisne.com/vos-elus/francois-rampelberg</td>\n",
       "      <td>6.315423e+08</td>\n",
       "      <td>237397.315587</td>\n",
       "      <td>{\"rings\": [[[741675.600000001, 6933189], [7417...</td>\n",
       "    </tr>\n",
       "  </tbody>\n",
       "</table>\n",
       "</div>"
      ],
      "text/plain": [
       "   OBJECTID                CANTON  NUMERO  NB_COMMUNE  SUPERFICIE  \\\n",
       "0         1  BOHAIN-EN-VERMANDOIS       1          31      288.88   \n",
       "1         2       CHATEAU-THIERRY       2          21      210.14   \n",
       "2         3                CHAUNY       3          21      167.20   \n",
       "3         4     ESSOMES-SUR-MARNE       4          47      522.16   \n",
       "4         5     FERE-EN-TARDENOIS       5          78      631.54   \n",
       "\n",
       "               ELU_1                ELU_2  \\\n",
       "0      Michel COLLET   Monique SEBASTIJAN   \n",
       "1     Bruno BEAUVOIS     Michèle FUSELIER   \n",
       "2  Jean-Luc LANOUILH  Fabienne MARCHIONNI   \n",
       "3     Georges FOURRÉ         Anne MARICOT   \n",
       "4       Carole DERUY  François RAMPELBERG   \n",
       "\n",
       "                                      FICHE_ELU  \\\n",
       "0      https://aisne.com/vos-elus/michel-collet   \n",
       "1     https://aisne.com/vos-elus/bruno-beauvois   \n",
       "2  https://aisne.com/vos-elus/jean-luc-lanouilh   \n",
       "3     https://aisne.com/vos-elus/georges-fourre   \n",
       "4       https://aisne.com/vos-elus/carole-deruy   \n",
       "\n",
       "                                       FICHE_EL_1   Shape__Area  \\\n",
       "0   https://aisne.com/vos-elus/monique-sebastijan  2.888832e+08   \n",
       "1     https://aisne.com/vos-elus/michele-fuselier  2.101448e+08   \n",
       "2  https://aisne.com/vos-elus/fabienne-marchionni  1.672036e+08   \n",
       "3         https://aisne.com/vos-elus/anne-maricot  5.221588e+08   \n",
       "4  https://aisne.com/vos-elus/francois-rampelberg  6.315423e+08   \n",
       "\n",
       "   Shape__Length                                              SHAPE  \n",
       "0  128552.573008  {\"rings\": [[[735157.799999997, 6991274.2], [73...  \n",
       "1  104911.296891  {\"rings\": [[[735349.899999999, 6889777.4], [73...  \n",
       "2   94661.843008  {\"rings\": [[[718294.799999997, 6955208.7], [71...  \n",
       "3  198246.580328  {\"rings\": [[[713224, 6884072.5], [713247.39999...  \n",
       "4  237397.315587  {\"rings\": [[[741675.600000001, 6933189], [7417...  "
      ]
     },
     "execution_count": 4,
     "metadata": {},
     "output_type": "execute_result"
    }
   ],
   "source": [
    "# Lecture du fichier csv initial\n",
    "search_results = gis.content.search('title:', # Lecture de la couche en attente de mise à jour\n",
    "                                    'Feature Layer')\n",
    "perma_item = search_results[0]\n",
    "\n",
    "perma_flayer = perma_item.layers[0]\n",
    "perma_fset = perma_flayer.query()\n",
    "perma_fset.sdf.head()"
   ]
  },
  {
   "cell_type": "markdown",
   "metadata": {},
   "source": [
    "## Lecture du fichier de mise à jour ( possédant la mise à jour )"
   ]
  },
  {
   "cell_type": "code",
   "execution_count": 1,
   "metadata": {},
   "outputs": [
    {
     "ename": "NameError",
     "evalue": "name 'pd' is not defined",
     "output_type": "error",
     "traceback": [
      "\u001b[1;31m---------------------------------------------------------------------------\u001b[0m",
      "\u001b[1;31mNameError\u001b[0m                                 Traceback (most recent call last)",
      "\u001b[1;32m<ipython-input-1-1cefb3633ddf>\u001b[0m in \u001b[0;36m<module>\u001b[1;34m\u001b[0m\n\u001b[0;32m      2\u001b[0m \u001b[0mcsv_updated\u001b[0m \u001b[1;33m=\u001b[0m \u001b[1;34m'data/updating_gis_content/elus_update.csv'\u001b[0m\u001b[1;33m\u001b[0m\u001b[1;33m\u001b[0m\u001b[0m\n\u001b[0;32m      3\u001b[0m \u001b[1;33m\u001b[0m\u001b[0m\n\u001b[1;32m----> 4\u001b[1;33m \u001b[0melus_csv_updated\u001b[0m \u001b[1;33m=\u001b[0m \u001b[0mpd\u001b[0m\u001b[1;33m.\u001b[0m\u001b[0mread_csv\u001b[0m\u001b[1;33m(\u001b[0m\u001b[0mcsv_updated\u001b[0m\u001b[1;33m,\u001b[0m \u001b[0merror_bad_lines\u001b[0m\u001b[1;33m=\u001b[0m\u001b[1;32mFalse\u001b[0m\u001b[1;33m,\u001b[0m \u001b[0mengine\u001b[0m\u001b[1;33m=\u001b[0m\u001b[1;34m\"python\"\u001b[0m\u001b[1;33m)\u001b[0m\u001b[1;33m\u001b[0m\u001b[1;33m\u001b[0m\u001b[0m\n\u001b[0m\u001b[0;32m      5\u001b[0m \u001b[0melus_csv_updated\u001b[0m\u001b[1;33m.\u001b[0m\u001b[0mhead\u001b[0m\u001b[1;33m(\u001b[0m\u001b[1;33m)\u001b[0m\u001b[1;33m\u001b[0m\u001b[1;33m\u001b[0m\u001b[0m\n",
      "\u001b[1;31mNameError\u001b[0m: name 'pd' is not defined"
     ]
    }
   ],
   "source": [
    "#lecture du fichier de mise à jour\n",
    "search_results_maj = gis.content.seach('title:TEST_UPDATE_PERMA', # Lecture du fichier de mise à jour\n",
    "                                       'Feature Layer')\n",
    "perma_updated_item = search_result[0]\n",
    "perma_updated_flayer = perma_updated_item.layers[0]\n",
    "perma_updated_fset = perma.flayer.query()\n",
    "perma_updated_fset.sdf.head()"
   ]
  },
  {
   "cell_type": "markdown",
   "metadata": {},
   "source": [
    "## Ajout des deux sets de données dans un dataframe"
   ]
  },
  {
   "cell_type": "code",
   "execution_count": 68,
   "metadata": {},
   "outputs": [
    {
     "data": {
      "text/plain": [
       "(26, 13)"
      ]
     },
     "execution_count": 68,
     "metadata": {},
     "output_type": "execute_result"
    }
   ],
   "source": [
    "updated_df = perma_fset.sdf.append(perma_updated_fset.sdf)\n",
    "updated_df.shape"
   ]
  },
  {
   "cell_type": "markdown",
   "metadata": {},
   "source": [
    "## Suppression les enregistrements doublées (si existants)"
   ]
  },
  {
   "cell_type": "code",
   "execution_count": 79,
   "metadata": {},
   "outputs": [
    {
     "data": {
      "text/plain": [
       "(21, 13)"
      ]
     },
     "execution_count": 79,
     "metadata": {},
     "output_type": "execute_result"
    }
   ],
   "source": [
    "updated_df.drop_duplicates(subset='NUMERO', keep='last', inplace=True)\n",
    "\n",
    "updated_df.shape"
   ]
  },
  {
   "cell_type": "code",
   "execution_count": 80,
   "metadata": {},
   "outputs": [
    {
     "data": {
      "text/html": [
       "<div>\n",
       "<style scoped>\n",
       "    .dataframe tbody tr th:only-of-type {\n",
       "        vertical-align: middle;\n",
       "    }\n",
       "\n",
       "    .dataframe tbody tr th {\n",
       "        vertical-align: top;\n",
       "    }\n",
       "\n",
       "    .dataframe thead th {\n",
       "        text-align: right;\n",
       "    }\n",
       "</style>\n",
       "<table border=\"1\" class=\"dataframe\">\n",
       "  <thead>\n",
       "    <tr style=\"text-align: right;\">\n",
       "      <th></th>\n",
       "      <th>OBJECTID</th>\n",
       "      <th>CANTON</th>\n",
       "      <th>NUMERO</th>\n",
       "      <th>NB_COMMUNE</th>\n",
       "      <th>SUPERFICIE</th>\n",
       "      <th>ELU_1</th>\n",
       "      <th>ELU_2</th>\n",
       "      <th>FICHE_ELU</th>\n",
       "      <th>FICHE_EL_1</th>\n",
       "      <th>Shape__Area</th>\n",
       "      <th>Shape__Length</th>\n",
       "      <th>SHAPE</th>\n",
       "      <th>ObjectId2</th>\n",
       "    </tr>\n",
       "  </thead>\n",
       "  <tbody>\n",
       "    <tr>\n",
       "      <th>0</th>\n",
       "      <td>1</td>\n",
       "      <td>BOHAIN-EN-VERMANDOIS</td>\n",
       "      <td>1</td>\n",
       "      <td>31</td>\n",
       "      <td>288.88</td>\n",
       "      <td>Michel COLLET</td>\n",
       "      <td>Monique SEBASTIJAN</td>\n",
       "      <td>https://aisne.com/vos-elus/michel-collet</td>\n",
       "      <td>https://aisne.com/vos-elus/monique-sebastijan</td>\n",
       "      <td>2.888832e+08</td>\n",
       "      <td>128553</td>\n",
       "      <td>{\"rings\": [[[735157.799999997, 6991274.2], [73...</td>\n",
       "      <td>NaN</td>\n",
       "    </tr>\n",
       "    <tr>\n",
       "      <th>1</th>\n",
       "      <td>2</td>\n",
       "      <td>CHATEAU-THIERRY</td>\n",
       "      <td>2</td>\n",
       "      <td>21</td>\n",
       "      <td>210.14</td>\n",
       "      <td>Bruno BEAUVOIS</td>\n",
       "      <td>Michèle FUSELIER</td>\n",
       "      <td>https://aisne.com/vos-elus/bruno-beauvois</td>\n",
       "      <td>https://aisne.com/vos-elus/michele-fuselier</td>\n",
       "      <td>2.101448e+08</td>\n",
       "      <td>104911</td>\n",
       "      <td>{\"rings\": [[[735349.899999999, 6889777.4], [73...</td>\n",
       "      <td>NaN</td>\n",
       "    </tr>\n",
       "    <tr>\n",
       "      <th>2</th>\n",
       "      <td>3</td>\n",
       "      <td>CHAUNY</td>\n",
       "      <td>3</td>\n",
       "      <td>21</td>\n",
       "      <td>167.20</td>\n",
       "      <td>Jean-Luc LANOUILH</td>\n",
       "      <td>Fabienne MARCHIONNI</td>\n",
       "      <td>https://aisne.com/vos-elus/jean-luc-lanouilh</td>\n",
       "      <td>https://aisne.com/vos-elus/fabienne-marchionni</td>\n",
       "      <td>1.672036e+08</td>\n",
       "      <td>94661.8</td>\n",
       "      <td>{\"rings\": [[[718294.799999997, 6955208.7], [71...</td>\n",
       "      <td>NaN</td>\n",
       "    </tr>\n",
       "    <tr>\n",
       "      <th>3</th>\n",
       "      <td>4</td>\n",
       "      <td>ESSOMES-SUR-MARNE</td>\n",
       "      <td>4</td>\n",
       "      <td>47</td>\n",
       "      <td>522.16</td>\n",
       "      <td>Georges FOURRÉ</td>\n",
       "      <td>Anne MARICOT</td>\n",
       "      <td>https://aisne.com/vos-elus/georges-fourre</td>\n",
       "      <td>https://aisne.com/vos-elus/anne-maricot</td>\n",
       "      <td>5.221588e+08</td>\n",
       "      <td>198247</td>\n",
       "      <td>{\"rings\": [[[713224, 6884072.5], [713247.39999...</td>\n",
       "      <td>NaN</td>\n",
       "    </tr>\n",
       "    <tr>\n",
       "      <th>4</th>\n",
       "      <td>5</td>\n",
       "      <td>FERE-EN-TARDENOIS</td>\n",
       "      <td>5</td>\n",
       "      <td>78</td>\n",
       "      <td>631.54</td>\n",
       "      <td>Carole DERUY</td>\n",
       "      <td>François RAMPELBERG</td>\n",
       "      <td>https://aisne.com/vos-elus/carole-deruy</td>\n",
       "      <td>https://aisne.com/vos-elus/francois-rampelberg</td>\n",
       "      <td>6.315423e+08</td>\n",
       "      <td>237397</td>\n",
       "      <td>{\"rings\": [[[741675.600000001, 6933189], [7417...</td>\n",
       "      <td>NaN</td>\n",
       "    </tr>\n",
       "  </tbody>\n",
       "</table>\n",
       "</div>"
      ],
      "text/plain": [
       "   OBJECTID                CANTON  NUMERO  NB_COMMUNE  SUPERFICIE  \\\n",
       "0         1  BOHAIN-EN-VERMANDOIS       1          31      288.88   \n",
       "1         2       CHATEAU-THIERRY       2          21      210.14   \n",
       "2         3                CHAUNY       3          21      167.20   \n",
       "3         4     ESSOMES-SUR-MARNE       4          47      522.16   \n",
       "4         5     FERE-EN-TARDENOIS       5          78      631.54   \n",
       "\n",
       "               ELU_1                ELU_2  \\\n",
       "0      Michel COLLET   Monique SEBASTIJAN   \n",
       "1     Bruno BEAUVOIS     Michèle FUSELIER   \n",
       "2  Jean-Luc LANOUILH  Fabienne MARCHIONNI   \n",
       "3     Georges FOURRÉ         Anne MARICOT   \n",
       "4       Carole DERUY  François RAMPELBERG   \n",
       "\n",
       "                                      FICHE_ELU  \\\n",
       "0      https://aisne.com/vos-elus/michel-collet   \n",
       "1     https://aisne.com/vos-elus/bruno-beauvois   \n",
       "2  https://aisne.com/vos-elus/jean-luc-lanouilh   \n",
       "3     https://aisne.com/vos-elus/georges-fourre   \n",
       "4       https://aisne.com/vos-elus/carole-deruy   \n",
       "\n",
       "                                       FICHE_EL_1   Shape__Area Shape__Length  \\\n",
       "0   https://aisne.com/vos-elus/monique-sebastijan  2.888832e+08        128553   \n",
       "1     https://aisne.com/vos-elus/michele-fuselier  2.101448e+08        104911   \n",
       "2  https://aisne.com/vos-elus/fabienne-marchionni  1.672036e+08       94661.8   \n",
       "3         https://aisne.com/vos-elus/anne-maricot  5.221588e+08        198247   \n",
       "4  https://aisne.com/vos-elus/francois-rampelberg  6.315423e+08        237397   \n",
       "\n",
       "                                               SHAPE  ObjectId2  \n",
       "0  {\"rings\": [[[735157.799999997, 6991274.2], [73...        NaN  \n",
       "1  {\"rings\": [[[735349.899999999, 6889777.4], [73...        NaN  \n",
       "2  {\"rings\": [[[718294.799999997, 6955208.7], [71...        NaN  \n",
       "3  {\"rings\": [[[713224, 6884072.5], [713247.39999...        NaN  \n",
       "4  {\"rings\": [[[741675.600000001, 6933189], [7417...        NaN  "
      ]
     },
     "execution_count": 80,
     "metadata": {},
     "output_type": "execute_result"
    }
   ],
   "source": [
    "updated_df.head()"
   ]
  },
  {
   "cell_type": "code",
   "execution_count": 49,
   "metadata": {},
   "outputs": [
    {
     "data": {
      "text/html": [
       "<div class=\"item_container\" style=\"height: auto; overflow: hidden; border: 1px solid #cfcfcf; border-radius: 2px; background: #f6fafa; line-height: 1.21429em; padding: 10px;\">\n",
       "                    <div class=\"item_left\" style=\"width: 210px; float: left;\">\n",
       "                       <a href='https://sigcg02.maps.arcgis.com/home/item.html?id=48b3de1c303a48fc9be1c594ba48363a' target='_blank'>\n",
       "                        <img src='http://static.arcgis.com/images/desktopapp.png' class=\"itemThumbnail\">\n",
       "                       </a>\n",
       "                    </div>\n",
       "\n",
       "                    <div class=\"item_right\"     style=\"float: none; width: auto; overflow: hidden;\">\n",
       "                        <a href='https://sigcg02.maps.arcgis.com/home/item.html?id=48b3de1c303a48fc9be1c594ba48363a' target='_blank'><b>TEST_UPDATE_ELUS_1618570067</b>\n",
       "                        </a>\n",
       "                        <br/><img src='https://sigcg02.maps.arcgis.com/home/js/jsapi/esri/css/images/item_type_icons/featureshosted16.png' style=\"vertical-align:middle;\">Feature Layer Collection by STAGE.CD02\n",
       "                        <br/>Last Modified: avril 16, 2021\n",
       "                        <br/>0 comments, 0 views\n",
       "                    </div>\n",
       "                </div>\n",
       "                "
      ],
      "text/plain": [
       "<Item title:\"TEST_UPDATE_ELUS_1618570067\" type:Feature Layer Collection owner:STAGE.CD02>"
      ]
     },
     "execution_count": 49,
     "metadata": {},
     "output_type": "execute_result"
    }
   ],
   "source": [
    "perma_updated_item = csv_item.publish()\n",
    "perma_updated_item"
   ]
  },
  {
   "cell_type": "markdown",
   "metadata": {},
   "source": [
    "## Sauvegarde de la dataframe précedente"
   ]
  },
  {
   "cell_type": "code",
   "execution_count": 74,
   "metadata": {},
   "outputs": [],
   "source": [
    "#création d'un fichier updated_elus_csv si il n'existe pas\n",
    "if not os.path.exists(os.path.join('data', 'updating_gis_content','updated_perma_csv')):\n",
    "    os.mkdir(os.path.join('data', 'updating_gis_content','updated_perma_csv'))"
   ]
  },
  {
   "cell_type": "code",
   "execution_count": 76,
   "metadata": {},
   "outputs": [],
   "source": [
    "#conversion du dataframe update en csv\n",
    "updated_df.to_csv(os.path.join('data', 'updating_gis_content',\n",
    "                               'updated_elus_csv', 'perma_updated_OK.csv'))"
   ]
  },
  {
   "cell_type": "markdown",
   "metadata": {},
   "source": [
    "## Overwrite de la couche initial avec le dataframe à jour"
   ]
  },
  {
   "cell_type": "code",
   "execution_count": 94,
   "metadata": {},
   "outputs": [],
   "source": [
    "from arcgis.features import FeatureLayerCollection\n",
    "perma_flayer_collection = FeatureLayerCollection.fromitem(perma_item)"
   ]
  },
  {
   "cell_type": "code",
   "execution_count": 95,
   "metadata": {},
   "outputs": [
    {
     "data": {
      "text/plain": [
       "{'error': 'Cannot find related data item used to publish this feature layer'}"
      ]
     },
     "execution_count": 95,
     "metadata": {},
     "output_type": "execute_result"
    }
   ],
   "source": [
    "perma_flayer_collection.manager.overwrite(os.path.join('data', 'updating_gis_content', 'updated_perma_csv', \n",
    "                                                      'perma_updated_OK.csv'))"
   ]
  }
 ],
 "metadata": {
  "kernelspec": {
   "display_name": "Python 3",
   "language": "python",
   "name": "python3"
  },
  "language_info": {
   "codemirror_mode": {
    "name": "ipython",
    "version": 3
   },
   "file_extension": ".py",
   "mimetype": "text/x-python",
   "name": "python",
   "nbconvert_exporter": "python",
   "pygments_lexer": "ipython3",
   "version": "3.8.5"
  }
 },
 "nbformat": 4,
 "nbformat_minor": 4
}
